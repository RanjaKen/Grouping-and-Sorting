{
 "cells": [
  {
   "cell_type": "markdown",
   "id": "f519acb4",
   "metadata": {
    "papermill": {
     "duration": 0.009276,
     "end_time": "2024-09-23T05:24:59.434348",
     "exception": false,
     "start_time": "2024-09-23T05:24:59.425072",
     "status": "completed"
    },
    "tags": []
   },
   "source": [
    "**This notebook is an exercise in the [Pandas](https://www.kaggle.com/learn/pandas) course.  You can reference the tutorial at [this link](https://www.kaggle.com/residentmario/grouping-and-sorting).**\n",
    "\n",
    "---\n"
   ]
  },
  {
   "cell_type": "markdown",
   "id": "d7740637",
   "metadata": {
    "papermill": {
     "duration": 0.008421,
     "end_time": "2024-09-23T05:24:59.452069",
     "exception": false,
     "start_time": "2024-09-23T05:24:59.443648",
     "status": "completed"
    },
    "tags": []
   },
   "source": [
    "# Introduction\n",
    "\n",
    "In these exercises we'll apply groupwise analysis to our dataset.\n",
    "\n",
    "Run the code cell below to load the data before running the exercises."
   ]
  },
  {
   "cell_type": "code",
   "execution_count": 1,
   "id": "6949da17",
   "metadata": {
    "execution": {
     "iopub.execute_input": "2024-09-23T05:24:59.471034Z",
     "iopub.status.busy": "2024-09-23T05:24:59.470570Z",
     "iopub.status.idle": "2024-09-23T05:25:03.842034Z",
     "shell.execute_reply": "2024-09-23T05:25:03.840581Z"
    },
    "papermill": {
     "duration": 4.385331,
     "end_time": "2024-09-23T05:25:03.846022",
     "exception": false,
     "start_time": "2024-09-23T05:24:59.460691",
     "status": "completed"
    },
    "tags": []
   },
   "outputs": [
    {
     "name": "stdout",
     "output_type": "stream",
     "text": [
      "Setup complete.\n"
     ]
    },
    {
     "name": "stderr",
     "output_type": "stream",
     "text": [
      "/opt/conda/lib/python3.10/site-packages/learntools/pandas/grouping_and_sorting.py:29: FutureWarning: The provided callable <built-in function min> is currently using SeriesGroupBy.min. In a future version of pandas, the provided callable will be used directly. To keep current behavior pass the string \"min\" instead.\n",
      "  _expected = reviews.groupby('variety').price.agg([min, max])\n",
      "/opt/conda/lib/python3.10/site-packages/learntools/pandas/grouping_and_sorting.py:29: FutureWarning: The provided callable <built-in function max> is currently using SeriesGroupBy.max. In a future version of pandas, the provided callable will be used directly. To keep current behavior pass the string \"max\" instead.\n",
      "  _expected = reviews.groupby('variety').price.agg([min, max])\n",
      "/opt/conda/lib/python3.10/site-packages/learntools/pandas/grouping_and_sorting.py:35: FutureWarning: The provided callable <built-in function min> is currently using SeriesGroupBy.min. In a future version of pandas, the provided callable will be used directly. To keep current behavior pass the string \"min\" instead.\n",
      "  _expected = reviews.groupby('variety').price.agg([min, max]).sort_values(by=['min', 'max'], ascending=False)\n",
      "/opt/conda/lib/python3.10/site-packages/learntools/pandas/grouping_and_sorting.py:35: FutureWarning: The provided callable <built-in function max> is currently using SeriesGroupBy.max. In a future version of pandas, the provided callable will be used directly. To keep current behavior pass the string \"max\" instead.\n",
      "  _expected = reviews.groupby('variety').price.agg([min, max]).sort_values(by=['min', 'max'], ascending=False)\n"
     ]
    }
   ],
   "source": [
    "import pandas as pd\n",
    "\n",
    "reviews = pd.read_csv(\"../input/wine-reviews/winemag-data-130k-v2.csv\", index_col=0)\n",
    "#pd.set_option(\"display.max_rows\", 5)\n",
    "\n",
    "from learntools.core import binder; binder.bind(globals())\n",
    "from learntools.pandas.grouping_and_sorting import *\n",
    "print(\"Setup complete.\")"
   ]
  },
  {
   "cell_type": "markdown",
   "id": "3bcfc55f",
   "metadata": {
    "papermill": {
     "duration": 0.008499,
     "end_time": "2024-09-23T05:25:03.863663",
     "exception": false,
     "start_time": "2024-09-23T05:25:03.855164",
     "status": "completed"
    },
    "tags": []
   },
   "source": [
    "# Exercises"
   ]
  },
  {
   "cell_type": "markdown",
   "id": "ecd534ca",
   "metadata": {
    "papermill": {
     "duration": 0.008376,
     "end_time": "2024-09-23T05:25:03.880649",
     "exception": false,
     "start_time": "2024-09-23T05:25:03.872273",
     "status": "completed"
    },
    "tags": []
   },
   "source": [
    "## 1.\n",
    "Who are the most common wine reviewers in the dataset? Create a `Series` whose index is the `taster_twitter_handle` category from the dataset, and whose values count how many reviews each person wrote."
   ]
  },
  {
   "cell_type": "code",
   "execution_count": 2,
   "id": "a8161c41",
   "metadata": {
    "execution": {
     "iopub.execute_input": "2024-09-23T05:25:03.899645Z",
     "iopub.status.busy": "2024-09-23T05:25:03.899208Z",
     "iopub.status.idle": "2024-09-23T05:25:03.947700Z",
     "shell.execute_reply": "2024-09-23T05:25:03.946435Z"
    },
    "papermill": {
     "duration": 0.061099,
     "end_time": "2024-09-23T05:25:03.950362",
     "exception": false,
     "start_time": "2024-09-23T05:25:03.889263",
     "status": "completed"
    },
    "tags": []
   },
   "outputs": [
    {
     "data": {
      "application/javascript": [
       "parent.postMessage({\"jupyterEvent\": \"custom.exercise_interaction\", \"data\": {\"outcomeType\": 1, \"valueTowardsCompletion\": 0.16666666666666666, \"interactionType\": 1, \"questionType\": 1, \"questionId\": \"1_ReviewsWritten\", \"learnToolsVersion\": \"0.3.4\", \"failureMessage\": \"\", \"exceptionClass\": \"\", \"trace\": \"\"}}, \"*\")"
      ],
      "text/plain": [
       "<IPython.core.display.Javascript object>"
      ]
     },
     "metadata": {},
     "output_type": "display_data"
    },
    {
     "data": {
      "text/markdown": [
       "<span style=\"color:#33cc33\">Correct:</span> \n",
       "\n",
       "\n",
       "```python\n",
       "reviews_written = reviews.groupby('taster_twitter_handle').size()\n",
       "```\n",
       "or\n",
       "```python\n",
       "reviews_written = reviews.groupby('taster_twitter_handle').taster_twitter_handle.count()\n",
       "```\n"
      ],
      "text/plain": [
       "Correct: \n",
       "\n",
       "\n",
       "```python\n",
       "reviews_written = reviews.groupby('taster_twitter_handle').size()\n",
       "```\n",
       "or\n",
       "```python\n",
       "reviews_written = reviews.groupby('taster_twitter_handle').taster_twitter_handle.count()\n",
       "```"
      ]
     },
     "metadata": {},
     "output_type": "display_data"
    }
   ],
   "source": [
    "# Your code here\n",
    "reviews_written = reviews.groupby(\"taster_twitter_handle\").taster_twitter_handle.count()\n",
    "\n",
    "# Check your answer\n",
    "q1.check()"
   ]
  },
  {
   "cell_type": "code",
   "execution_count": 3,
   "id": "f7c7fdf6",
   "metadata": {
    "execution": {
     "iopub.execute_input": "2024-09-23T05:25:03.970298Z",
     "iopub.status.busy": "2024-09-23T05:25:03.969828Z",
     "iopub.status.idle": "2024-09-23T05:25:03.974863Z",
     "shell.execute_reply": "2024-09-23T05:25:03.973628Z"
    },
    "papermill": {
     "duration": 0.018002,
     "end_time": "2024-09-23T05:25:03.977596",
     "exception": false,
     "start_time": "2024-09-23T05:25:03.959594",
     "status": "completed"
    },
    "tags": []
   },
   "outputs": [],
   "source": [
    "#q1.hint()\n",
    "#q1.solution()"
   ]
  },
  {
   "cell_type": "markdown",
   "id": "5f0b53c9",
   "metadata": {
    "papermill": {
     "duration": 0.008728,
     "end_time": "2024-09-23T05:25:03.995345",
     "exception": false,
     "start_time": "2024-09-23T05:25:03.986617",
     "status": "completed"
    },
    "tags": []
   },
   "source": [
    "## 2.\n",
    "What is the best wine I can buy for a given amount of money? Create a `Series` whose index is wine prices and whose values is the maximum number of points a wine costing that much was given in a review. Sort the values by price, ascending (so that `4.0` dollars is at the top and `3300.0` dollars is at the bottom)."
   ]
  },
  {
   "cell_type": "code",
   "execution_count": 4,
   "id": "de028df2",
   "metadata": {
    "execution": {
     "iopub.execute_input": "2024-09-23T05:25:04.015217Z",
     "iopub.status.busy": "2024-09-23T05:25:04.014724Z",
     "iopub.status.idle": "2024-09-23T05:25:04.030489Z",
     "shell.execute_reply": "2024-09-23T05:25:04.029203Z"
    },
    "papermill": {
     "duration": 0.028917,
     "end_time": "2024-09-23T05:25:04.033221",
     "exception": false,
     "start_time": "2024-09-23T05:25:04.004304",
     "status": "completed"
    },
    "tags": []
   },
   "outputs": [
    {
     "data": {
      "application/javascript": [
       "parent.postMessage({\"jupyterEvent\": \"custom.exercise_interaction\", \"data\": {\"outcomeType\": 1, \"valueTowardsCompletion\": 0.16666666666666666, \"interactionType\": 1, \"questionType\": 1, \"questionId\": \"2_BestRatingPerPrice\", \"learnToolsVersion\": \"0.3.4\", \"failureMessage\": \"\", \"exceptionClass\": \"\", \"trace\": \"\"}}, \"*\")"
      ],
      "text/plain": [
       "<IPython.core.display.Javascript object>"
      ]
     },
     "metadata": {},
     "output_type": "display_data"
    },
    {
     "data": {
      "text/markdown": [
       "<span style=\"color:#33cc33\">Correct</span>"
      ],
      "text/plain": [
       "Correct"
      ]
     },
     "metadata": {},
     "output_type": "display_data"
    }
   ],
   "source": [
    "best_rating_per_price = reviews.groupby(\"price\")[\"points\"].max().sort_index()\n",
    "\n",
    "# Check your answer\n",
    "q2.check()"
   ]
  },
  {
   "cell_type": "code",
   "execution_count": 5,
   "id": "e1a70a9d",
   "metadata": {
    "execution": {
     "iopub.execute_input": "2024-09-23T05:25:04.054136Z",
     "iopub.status.busy": "2024-09-23T05:25:04.053638Z",
     "iopub.status.idle": "2024-09-23T05:25:04.058953Z",
     "shell.execute_reply": "2024-09-23T05:25:04.057678Z"
    },
    "papermill": {
     "duration": 0.01892,
     "end_time": "2024-09-23T05:25:04.061628",
     "exception": false,
     "start_time": "2024-09-23T05:25:04.042708",
     "status": "completed"
    },
    "tags": []
   },
   "outputs": [],
   "source": [
    "#q2.hint()\n",
    "#q2.solution()"
   ]
  },
  {
   "cell_type": "markdown",
   "id": "c5bd206a",
   "metadata": {
    "papermill": {
     "duration": 0.008948,
     "end_time": "2024-09-23T05:25:04.079772",
     "exception": false,
     "start_time": "2024-09-23T05:25:04.070824",
     "status": "completed"
    },
    "tags": []
   },
   "source": [
    "## 3.\n",
    "What are the minimum and maximum prices for each `variety` of wine? Create a `DataFrame` whose index is the `variety` category from the dataset and whose values are the `min` and `max` values thereof."
   ]
  },
  {
   "cell_type": "code",
   "execution_count": 6,
   "id": "3d81b01e",
   "metadata": {
    "execution": {
     "iopub.execute_input": "2024-09-23T05:25:04.101066Z",
     "iopub.status.busy": "2024-09-23T05:25:04.100090Z",
     "iopub.status.idle": "2024-09-23T05:25:04.141553Z",
     "shell.execute_reply": "2024-09-23T05:25:04.140443Z"
    },
    "papermill": {
     "duration": 0.054754,
     "end_time": "2024-09-23T05:25:04.144028",
     "exception": false,
     "start_time": "2024-09-23T05:25:04.089274",
     "status": "completed"
    },
    "tags": []
   },
   "outputs": [
    {
     "data": {
      "application/javascript": [
       "parent.postMessage({\"jupyterEvent\": \"custom.exercise_interaction\", \"data\": {\"outcomeType\": 1, \"valueTowardsCompletion\": 0.16666666666666666, \"interactionType\": 1, \"questionType\": 1, \"questionId\": \"3_PriceExtremes\", \"learnToolsVersion\": \"0.3.4\", \"failureMessage\": \"\", \"exceptionClass\": \"\", \"trace\": \"\"}}, \"*\")"
      ],
      "text/plain": [
       "<IPython.core.display.Javascript object>"
      ]
     },
     "metadata": {},
     "output_type": "display_data"
    },
    {
     "data": {
      "text/markdown": [
       "<span style=\"color:#33cc33\">Correct</span>"
      ],
      "text/plain": [
       "Correct"
      ]
     },
     "metadata": {},
     "output_type": "display_data"
    }
   ],
   "source": [
    "price_extremes = reviews.groupby(\"variety\").price.agg([\"min\", \"max\"])\n",
    "\n",
    "# Check your answer\n",
    "q3.check()"
   ]
  },
  {
   "cell_type": "code",
   "execution_count": 7,
   "id": "0f7e3ad0",
   "metadata": {
    "execution": {
     "iopub.execute_input": "2024-09-23T05:25:04.165260Z",
     "iopub.status.busy": "2024-09-23T05:25:04.164526Z",
     "iopub.status.idle": "2024-09-23T05:25:04.169370Z",
     "shell.execute_reply": "2024-09-23T05:25:04.168140Z"
    },
    "papermill": {
     "duration": 0.018022,
     "end_time": "2024-09-23T05:25:04.171741",
     "exception": false,
     "start_time": "2024-09-23T05:25:04.153719",
     "status": "completed"
    },
    "tags": []
   },
   "outputs": [],
   "source": [
    "#q3.hint()\n",
    "#q3.solution()"
   ]
  },
  {
   "cell_type": "markdown",
   "id": "b1e523bd",
   "metadata": {
    "papermill": {
     "duration": 0.009099,
     "end_time": "2024-09-23T05:25:04.190680",
     "exception": false,
     "start_time": "2024-09-23T05:25:04.181581",
     "status": "completed"
    },
    "tags": []
   },
   "source": [
    "## 4.\n",
    "What are the most expensive wine varieties? Create a variable `sorted_varieties` containing a copy of the dataframe from the previous question where varieties are sorted in descending order based on minimum price, then on maximum price (to break ties)."
   ]
  },
  {
   "cell_type": "code",
   "execution_count": 8,
   "id": "98c3ce03",
   "metadata": {
    "execution": {
     "iopub.execute_input": "2024-09-23T05:25:04.211312Z",
     "iopub.status.busy": "2024-09-23T05:25:04.210857Z",
     "iopub.status.idle": "2024-09-23T05:25:04.224610Z",
     "shell.execute_reply": "2024-09-23T05:25:04.223261Z"
    },
    "papermill": {
     "duration": 0.027632,
     "end_time": "2024-09-23T05:25:04.227733",
     "exception": false,
     "start_time": "2024-09-23T05:25:04.200101",
     "status": "completed"
    },
    "tags": []
   },
   "outputs": [
    {
     "data": {
      "application/javascript": [
       "parent.postMessage({\"jupyterEvent\": \"custom.exercise_interaction\", \"data\": {\"outcomeType\": 1, \"valueTowardsCompletion\": 0.16666666666666666, \"interactionType\": 1, \"questionType\": 1, \"questionId\": \"4_SortedVarieties\", \"learnToolsVersion\": \"0.3.4\", \"failureMessage\": \"\", \"exceptionClass\": \"\", \"trace\": \"\"}}, \"*\")"
      ],
      "text/plain": [
       "<IPython.core.display.Javascript object>"
      ]
     },
     "metadata": {},
     "output_type": "display_data"
    },
    {
     "data": {
      "text/markdown": [
       "<span style=\"color:#33cc33\">Correct</span>"
      ],
      "text/plain": [
       "Correct"
      ]
     },
     "metadata": {},
     "output_type": "display_data"
    }
   ],
   "source": [
    "sorted_varieties = price_extremes.sort_values(by=['min','max'], ascending=False)\n",
    "\n",
    "# Check your answer\n",
    "q4.check()"
   ]
  },
  {
   "cell_type": "code",
   "execution_count": 9,
   "id": "b80351c5",
   "metadata": {
    "execution": {
     "iopub.execute_input": "2024-09-23T05:25:04.250134Z",
     "iopub.status.busy": "2024-09-23T05:25:04.249683Z",
     "iopub.status.idle": "2024-09-23T05:25:04.255361Z",
     "shell.execute_reply": "2024-09-23T05:25:04.254074Z"
    },
    "papermill": {
     "duration": 0.019811,
     "end_time": "2024-09-23T05:25:04.257862",
     "exception": false,
     "start_time": "2024-09-23T05:25:04.238051",
     "status": "completed"
    },
    "tags": []
   },
   "outputs": [],
   "source": [
    "#q4.hint()\n",
    "#q4.solution()"
   ]
  },
  {
   "cell_type": "markdown",
   "id": "a9f968fa",
   "metadata": {
    "papermill": {
     "duration": 0.009998,
     "end_time": "2024-09-23T05:25:04.277830",
     "exception": false,
     "start_time": "2024-09-23T05:25:04.267832",
     "status": "completed"
    },
    "tags": []
   },
   "source": [
    "## 5.\n",
    "Create a `Series` whose index is reviewers and whose values is the average review score given out by that reviewer. Hint: you will need the `taster_name` and `points` columns."
   ]
  },
  {
   "cell_type": "code",
   "execution_count": 10,
   "id": "40a821d8",
   "metadata": {
    "execution": {
     "iopub.execute_input": "2024-09-23T05:25:04.301125Z",
     "iopub.status.busy": "2024-09-23T05:25:04.300684Z",
     "iopub.status.idle": "2024-09-23T05:25:04.337364Z",
     "shell.execute_reply": "2024-09-23T05:25:04.336188Z"
    },
    "papermill": {
     "duration": 0.051489,
     "end_time": "2024-09-23T05:25:04.340068",
     "exception": false,
     "start_time": "2024-09-23T05:25:04.288579",
     "status": "completed"
    },
    "tags": []
   },
   "outputs": [
    {
     "data": {
      "application/javascript": [
       "parent.postMessage({\"jupyterEvent\": \"custom.exercise_interaction\", \"data\": {\"outcomeType\": 1, \"valueTowardsCompletion\": 0.16666666666666666, \"interactionType\": 1, \"questionType\": 1, \"questionId\": \"5_ReviewerMeanRatings\", \"learnToolsVersion\": \"0.3.4\", \"failureMessage\": \"\", \"exceptionClass\": \"\", \"trace\": \"\"}}, \"*\")"
      ],
      "text/plain": [
       "<IPython.core.display.Javascript object>"
      ]
     },
     "metadata": {},
     "output_type": "display_data"
    },
    {
     "data": {
      "text/markdown": [
       "<span style=\"color:#33cc33\">Correct</span>"
      ],
      "text/plain": [
       "Correct"
      ]
     },
     "metadata": {},
     "output_type": "display_data"
    }
   ],
   "source": [
    "reviewer_mean_ratings = reviews.groupby('taster_name').points.mean()\n",
    "\n",
    "# Check your answer\n",
    "q5.check()"
   ]
  },
  {
   "cell_type": "code",
   "execution_count": 11,
   "id": "c4af2821",
   "metadata": {
    "execution": {
     "iopub.execute_input": "2024-09-23T05:25:04.363683Z",
     "iopub.status.busy": "2024-09-23T05:25:04.363230Z",
     "iopub.status.idle": "2024-09-23T05:25:04.368152Z",
     "shell.execute_reply": "2024-09-23T05:25:04.367055Z"
    },
    "papermill": {
     "duration": 0.019335,
     "end_time": "2024-09-23T05:25:04.370493",
     "exception": false,
     "start_time": "2024-09-23T05:25:04.351158",
     "status": "completed"
    },
    "tags": []
   },
   "outputs": [],
   "source": [
    "#q5.hint()\n",
    "#q5.solution()"
   ]
  },
  {
   "cell_type": "markdown",
   "id": "e6a3ff03",
   "metadata": {
    "papermill": {
     "duration": 0.009765,
     "end_time": "2024-09-23T05:25:04.390479",
     "exception": false,
     "start_time": "2024-09-23T05:25:04.380714",
     "status": "completed"
    },
    "tags": []
   },
   "source": [
    "Are there significant differences in the average scores assigned by the various reviewers? Run the cell below to use the `describe()` method to see a summary of the range of values."
   ]
  },
  {
   "cell_type": "code",
   "execution_count": 12,
   "id": "fac80c3f",
   "metadata": {
    "execution": {
     "iopub.execute_input": "2024-09-23T05:25:04.412839Z",
     "iopub.status.busy": "2024-09-23T05:25:04.412382Z",
     "iopub.status.idle": "2024-09-23T05:25:04.426036Z",
     "shell.execute_reply": "2024-09-23T05:25:04.424807Z"
    },
    "papermill": {
     "duration": 0.028287,
     "end_time": "2024-09-23T05:25:04.428965",
     "exception": false,
     "start_time": "2024-09-23T05:25:04.400678",
     "status": "completed"
    },
    "tags": []
   },
   "outputs": [
    {
     "data": {
      "text/plain": [
       "count    19.000000\n",
       "mean     88.233026\n",
       "std       1.243610\n",
       "min      85.855422\n",
       "25%      87.323501\n",
       "50%      88.536235\n",
       "75%      88.975256\n",
       "max      90.562551\n",
       "Name: points, dtype: float64"
      ]
     },
     "execution_count": 12,
     "metadata": {},
     "output_type": "execute_result"
    }
   ],
   "source": [
    "reviewer_mean_ratings.describe()"
   ]
  },
  {
   "cell_type": "markdown",
   "id": "cf05d8a2",
   "metadata": {
    "papermill": {
     "duration": 0.010731,
     "end_time": "2024-09-23T05:25:04.450046",
     "exception": false,
     "start_time": "2024-09-23T05:25:04.439315",
     "status": "completed"
    },
    "tags": []
   },
   "source": [
    "## 6.\n",
    "What combination of countries and varieties are most common? Create a `Series` whose index is a `MultiIndex`of `{country, variety}` pairs. For example, a pinot noir produced in the US should map to `{\"US\", \"Pinot Noir\"}`. Sort the values in the `Series` in descending order based on wine count."
   ]
  },
  {
   "cell_type": "code",
   "execution_count": 13,
   "id": "9f010499",
   "metadata": {
    "execution": {
     "iopub.execute_input": "2024-09-23T05:25:04.473906Z",
     "iopub.status.busy": "2024-09-23T05:25:04.473395Z",
     "iopub.status.idle": "2024-09-23T05:25:04.541132Z",
     "shell.execute_reply": "2024-09-23T05:25:04.539900Z"
    },
    "papermill": {
     "duration": 0.082725,
     "end_time": "2024-09-23T05:25:04.543869",
     "exception": false,
     "start_time": "2024-09-23T05:25:04.461144",
     "status": "completed"
    },
    "tags": []
   },
   "outputs": [
    {
     "data": {
      "application/javascript": [
       "parent.postMessage({\"jupyterEvent\": \"custom.exercise_interaction\", \"data\": {\"outcomeType\": 1, \"valueTowardsCompletion\": 0.16666666666666666, \"interactionType\": 1, \"questionType\": 1, \"questionId\": \"6_GroupbyCountryVariety\", \"learnToolsVersion\": \"0.3.4\", \"failureMessage\": \"\", \"exceptionClass\": \"\", \"trace\": \"\"}}, \"*\")"
      ],
      "text/plain": [
       "<IPython.core.display.Javascript object>"
      ]
     },
     "metadata": {},
     "output_type": "display_data"
    },
    {
     "data": {
      "text/markdown": [
       "<span style=\"color:#33cc33\">Correct</span>"
      ],
      "text/plain": [
       "Correct"
      ]
     },
     "metadata": {},
     "output_type": "display_data"
    }
   ],
   "source": [
    "country_variety_counts = reviews.groupby([\"country\",\"variety\"]).size().sort_values(ascending=False)\n",
    "\n",
    "# Check your answer\n",
    "q6.check()"
   ]
  },
  {
   "cell_type": "code",
   "execution_count": 14,
   "id": "0eaaebc0",
   "metadata": {
    "execution": {
     "iopub.execute_input": "2024-09-23T05:25:04.569971Z",
     "iopub.status.busy": "2024-09-23T05:25:04.568762Z",
     "iopub.status.idle": "2024-09-23T05:25:04.574894Z",
     "shell.execute_reply": "2024-09-23T05:25:04.573675Z"
    },
    "papermill": {
     "duration": 0.022629,
     "end_time": "2024-09-23T05:25:04.577537",
     "exception": false,
     "start_time": "2024-09-23T05:25:04.554908",
     "status": "completed"
    },
    "tags": []
   },
   "outputs": [],
   "source": [
    "#q6.hint()\n",
    "#q6.solution()"
   ]
  },
  {
   "cell_type": "markdown",
   "id": "d821bd23",
   "metadata": {
    "papermill": {
     "duration": 0.011003,
     "end_time": "2024-09-23T05:25:04.599800",
     "exception": false,
     "start_time": "2024-09-23T05:25:04.588797",
     "status": "completed"
    },
    "tags": []
   },
   "source": [
    "# Keep going\n",
    "\n",
    "Move on to the [**data types and missing data**](https://www.kaggle.com/residentmario/data-types-and-missing-values)."
   ]
  },
  {
   "cell_type": "markdown",
   "id": "08aa10c0",
   "metadata": {
    "papermill": {
     "duration": 0.011432,
     "end_time": "2024-09-23T05:25:04.622636",
     "exception": false,
     "start_time": "2024-09-23T05:25:04.611204",
     "status": "completed"
    },
    "tags": []
   },
   "source": [
    "---\n",
    "\n",
    "\n",
    "\n",
    "\n",
    "*Have questions or comments? Visit the [course discussion forum](https://www.kaggle.com/learn/pandas/discussion) to chat with other learners.*"
   ]
  }
 ],
 "metadata": {
  "kaggle": {
   "accelerator": "none",
   "dataSources": [
    {
     "datasetId": 655,
     "sourceId": 1252,
     "sourceType": "datasetVersion"
    },
    {
     "datasetId": 2321,
     "sourceId": 3919,
     "sourceType": "datasetVersion"
    },
    {
     "datasetId": 2894,
     "sourceId": 4877,
     "sourceType": "datasetVersion"
    },
    {
     "datasetId": 3491,
     "sourceId": 5624,
     "sourceType": "datasetVersion"
    },
    {
     "datasetId": 1442,
     "sourceId": 8172,
     "sourceType": "datasetVersion"
    },
    {
     "datasetId": 9366,
     "sourceId": 13206,
     "sourceType": "datasetVersion"
    },
    {
     "datasetId": 179555,
     "sourceId": 403916,
     "sourceType": "datasetVersion"
    },
    {
     "datasetId": 4549,
     "sourceId": 466349,
     "sourceType": "datasetVersion"
    },
    {
     "datasetId": 2478,
     "sourceId": 1151655,
     "sourceType": "datasetVersion"
    },
    {
     "datasetId": 10128,
     "sourceId": 5438389,
     "sourceType": "datasetVersion"
    }
   ],
   "isGpuEnabled": false,
   "isInternetEnabled": false,
   "language": "python",
   "sourceType": "notebook"
  },
  "kernelspec": {
   "display_name": "Python 3",
   "language": "python",
   "name": "python3"
  },
  "language_info": {
   "codemirror_mode": {
    "name": "ipython",
    "version": 3
   },
   "file_extension": ".py",
   "mimetype": "text/x-python",
   "name": "python",
   "nbconvert_exporter": "python",
   "pygments_lexer": "ipython3",
   "version": "3.10.14"
  },
  "papermill": {
   "default_parameters": {},
   "duration": 9.353005,
   "end_time": "2024-09-23T05:25:05.256863",
   "environment_variables": {},
   "exception": null,
   "input_path": "__notebook__.ipynb",
   "output_path": "__notebook__.ipynb",
   "parameters": {},
   "start_time": "2024-09-23T05:24:55.903858",
   "version": "2.6.0"
  }
 },
 "nbformat": 4,
 "nbformat_minor": 5
}
